{
  "nbformat": 4,
  "nbformat_minor": 0,
  "metadata": {
    "colab": {
      "provenance": [],
      "authorship_tag": "ABX9TyNCwZKw21OKWTjrPk+8qre7",
      "include_colab_link": true
    },
    "kernelspec": {
      "name": "python3",
      "display_name": "Python 3"
    },
    "language_info": {
      "name": "python"
    }
  },
  "cells": [
    {
      "cell_type": "markdown",
      "metadata": {
        "id": "view-in-github",
        "colab_type": "text"
      },
      "source": [
        "<a href=\"https://colab.research.google.com/github/victormmoraes/imersao-alura-ia/blob/main/Metr%C3%B4_inteligente_Imers%C3%A3o_IA_Alura_e_Google.ipynb\" target=\"_parent\"><img src=\"https://colab.research.google.com/assets/colab-badge.svg\" alt=\"Open In Colab\"/></a>"
      ]
    },
    {
      "cell_type": "code",
      "source": [
        "# Instalando as dependências\n",
        "!pip install googlemaps\n",
        "!pip install unidecode\n",
        "!pip install google-search-results\n",
        "!pip install -q -U google-generativeai\n",
        "!pip install googletrans"
      ],
      "metadata": {
        "id": "G2H1HhG0CLfs",
        "colab": {
          "base_uri": "https://localhost:8080/"
        },
        "outputId": "beb018d4-c34a-48a7-98d4-02623fa077eb"
      },
      "execution_count": 30,
      "outputs": [
        {
          "output_type": "stream",
          "name": "stdout",
          "text": [
            "Requirement already satisfied: googlemaps in /usr/local/lib/python3.10/dist-packages (4.10.0)\n",
            "Requirement already satisfied: requests<3.0,>=2.20.0 in /usr/local/lib/python3.10/dist-packages (from googlemaps) (2.31.0)\n",
            "Requirement already satisfied: charset-normalizer<4,>=2 in /usr/local/lib/python3.10/dist-packages (from requests<3.0,>=2.20.0->googlemaps) (3.3.2)\n",
            "Requirement already satisfied: idna<4,>=2.5 in /usr/local/lib/python3.10/dist-packages (from requests<3.0,>=2.20.0->googlemaps) (2.10)\n",
            "Requirement already satisfied: urllib3<3,>=1.21.1 in /usr/local/lib/python3.10/dist-packages (from requests<3.0,>=2.20.0->googlemaps) (2.0.7)\n",
            "Requirement already satisfied: certifi>=2017.4.17 in /usr/local/lib/python3.10/dist-packages (from requests<3.0,>=2.20.0->googlemaps) (2024.2.2)\n",
            "Requirement already satisfied: unidecode in /usr/local/lib/python3.10/dist-packages (1.3.8)\n",
            "Requirement already satisfied: google-search-results in /usr/local/lib/python3.10/dist-packages (2.4.2)\n",
            "Requirement already satisfied: requests in /usr/local/lib/python3.10/dist-packages (from google-search-results) (2.31.0)\n",
            "Requirement already satisfied: charset-normalizer<4,>=2 in /usr/local/lib/python3.10/dist-packages (from requests->google-search-results) (3.3.2)\n",
            "Requirement already satisfied: idna<4,>=2.5 in /usr/local/lib/python3.10/dist-packages (from requests->google-search-results) (2.10)\n",
            "Requirement already satisfied: urllib3<3,>=1.21.1 in /usr/local/lib/python3.10/dist-packages (from requests->google-search-results) (2.0.7)\n",
            "Requirement already satisfied: certifi>=2017.4.17 in /usr/local/lib/python3.10/dist-packages (from requests->google-search-results) (2024.2.2)\n",
            "Requirement already satisfied: googletrans in /usr/local/lib/python3.10/dist-packages (3.0.0)\n",
            "Requirement already satisfied: httpx==0.13.3 in /usr/local/lib/python3.10/dist-packages (from googletrans) (0.13.3)\n",
            "Requirement already satisfied: certifi in /usr/local/lib/python3.10/dist-packages (from httpx==0.13.3->googletrans) (2024.2.2)\n",
            "Requirement already satisfied: hstspreload in /usr/local/lib/python3.10/dist-packages (from httpx==0.13.3->googletrans) (2024.5.1)\n",
            "Requirement already satisfied: sniffio in /usr/local/lib/python3.10/dist-packages (from httpx==0.13.3->googletrans) (1.3.1)\n",
            "Requirement already satisfied: chardet==3.* in /usr/local/lib/python3.10/dist-packages (from httpx==0.13.3->googletrans) (3.0.4)\n",
            "Requirement already satisfied: idna==2.* in /usr/local/lib/python3.10/dist-packages (from httpx==0.13.3->googletrans) (2.10)\n",
            "Requirement already satisfied: rfc3986<2,>=1.3 in /usr/local/lib/python3.10/dist-packages (from httpx==0.13.3->googletrans) (1.5.0)\n",
            "Requirement already satisfied: httpcore==0.9.* in /usr/local/lib/python3.10/dist-packages (from httpx==0.13.3->googletrans) (0.9.1)\n",
            "Requirement already satisfied: h11<0.10,>=0.8 in /usr/local/lib/python3.10/dist-packages (from httpcore==0.9.*->httpx==0.13.3->googletrans) (0.9.0)\n",
            "Requirement already satisfied: h2==3.* in /usr/local/lib/python3.10/dist-packages (from httpcore==0.9.*->httpx==0.13.3->googletrans) (3.2.0)\n",
            "Requirement already satisfied: hyperframe<6,>=5.2.0 in /usr/local/lib/python3.10/dist-packages (from h2==3.*->httpcore==0.9.*->httpx==0.13.3->googletrans) (5.2.0)\n",
            "Requirement already satisfied: hpack<4,>=3.0 in /usr/local/lib/python3.10/dist-packages (from h2==3.*->httpcore==0.9.*->httpx==0.13.3->googletrans) (3.0.0)\n"
          ]
        }
      ]
    },
    {
      "cell_type": "code",
      "source": [
        "# Importações\n",
        "import pandas as pd\n",
        "import googlemaps\n",
        "import google.generativeai as genai\n",
        "from unidecode import unidecode\n",
        "from serpapi import GoogleSearch\n",
        "from googletrans import Translator\n",
        "from google.cloud import translate_v2 as translate"
      ],
      "metadata": {
        "id": "BEhu5Q4vCOKN"
      },
      "execution_count": 2,
      "outputs": []
    },
    {
      "cell_type": "code",
      "source": [
        "# Acessando chave secreta no Google Colab\n",
        "from google.colab import userdata\n",
        "API_KEY = userdata.get('API_KEY')"
      ],
      "metadata": {
        "id": "YJXXvx2C5yyW"
      },
      "execution_count": 3,
      "outputs": []
    },
    {
      "cell_type": "code",
      "source": [
        "# Define a API Key para o genai\n",
        "genai.configure(api_key=API_KEY)"
      ],
      "metadata": {
        "id": "W9DDfpJFXfSO"
      },
      "execution_count": 4,
      "outputs": []
    },
    {
      "cell_type": "code",
      "source": [
        "generation_config = {\n",
        "  \"candidate_count\": 1,\n",
        "  \"temperature\": 0,\n",
        "}\n",
        "\n",
        "safety_settings={\n",
        "    'HATE': 'BLOCK_NONE',\n",
        "    'HARASSMENT': 'BLOCK_NONE',\n",
        "    'SEXUAL' : 'BLOCK_NONE',\n",
        "    'DANGEROUS' : 'BLOCK_NONE'\n",
        "    }\n",
        "\n",
        "model = genai.GenerativeModel(model_name='gemini-1.0-pro',\n",
        "                              generation_config=generation_config,\n",
        "                              safety_settings=safety_settings,)"
      ],
      "metadata": {
        "id": "_c2MaCDLrlLH"
      },
      "execution_count": 31,
      "outputs": []
    },
    {
      "cell_type": "code",
      "source": [
        "# Inicializa o cliente da API do Google Maps\n",
        "gmaps = googlemaps.Client(key=API_KEY)"
      ],
      "metadata": {
        "id": "716Doyr3582Q"
      },
      "execution_count": 5,
      "outputs": []
    },
    {
      "cell_type": "code",
      "source": [
        "# Caminho para o arquivo da planilha no Google Colab\n",
        "spreadsheet_path = '/content/metro_sp.xlsx'  # Substitua pelo nome do seu arquivo"
      ],
      "metadata": {
        "id": "VRGit-A46Auz"
      },
      "execution_count": 6,
      "outputs": []
    },
    {
      "cell_type": "code",
      "source": [
        "# Carrega a planilha em um DataFrame\n",
        "df = pd.read_excel(spreadsheet_path)"
      ],
      "metadata": {
        "id": "GPH4UkuD6Dyb"
      },
      "execution_count": 8,
      "outputs": []
    },
    {
      "cell_type": "code",
      "source": [
        "# Imprime o DataFrame\n",
        "df"
      ],
      "metadata": {
        "colab": {
          "base_uri": "https://localhost:8080/",
          "height": 424
        },
        "id": "qRoJ2FSp6HHl",
        "outputId": "258aa681-ecec-44a5-84e4-49ed6271d0ce"
      },
      "execution_count": 9,
      "outputs": [
        {
          "output_type": "execute_result",
          "data": {
            "text/plain": [
              "        nome_da_estacao                               linha\n",
              "0                   Luz                      Linha 1 - Azul\n",
              "1             São Bento                      Linha 1 - Azul\n",
              "2                    Sé  Linha 1 - Azul, Linha 3 - Vermelha\n",
              "3             Liberdade                      Linha 1 - Azul\n",
              "4               Paraíso     Linha 1 - Azul, Linha 2 - Verde\n",
              "..                  ...                                 ...\n",
              "77        AACD-Servidor                     Linha 5 - Lilás\n",
              "78           Santa Cruz                     Linha 5 - Lilás\n",
              "79       Chácara Klabin                     Linha 5 - Lilás\n",
              "80           Campo Belo                     Linha 5 - Lilás\n",
              "81  Comendador Ermelino                    Linha 15 - Prata\n",
              "\n",
              "[82 rows x 2 columns]"
            ],
            "text/html": [
              "\n",
              "  <div id=\"df-56b1ef28-3c24-4799-bfe8-61c07050253f\" class=\"colab-df-container\">\n",
              "    <div>\n",
              "<style scoped>\n",
              "    .dataframe tbody tr th:only-of-type {\n",
              "        vertical-align: middle;\n",
              "    }\n",
              "\n",
              "    .dataframe tbody tr th {\n",
              "        vertical-align: top;\n",
              "    }\n",
              "\n",
              "    .dataframe thead th {\n",
              "        text-align: right;\n",
              "    }\n",
              "</style>\n",
              "<table border=\"1\" class=\"dataframe\">\n",
              "  <thead>\n",
              "    <tr style=\"text-align: right;\">\n",
              "      <th></th>\n",
              "      <th>nome_da_estacao</th>\n",
              "      <th>linha</th>\n",
              "    </tr>\n",
              "  </thead>\n",
              "  <tbody>\n",
              "    <tr>\n",
              "      <th>0</th>\n",
              "      <td>Luz</td>\n",
              "      <td>Linha 1 - Azul</td>\n",
              "    </tr>\n",
              "    <tr>\n",
              "      <th>1</th>\n",
              "      <td>São Bento</td>\n",
              "      <td>Linha 1 - Azul</td>\n",
              "    </tr>\n",
              "    <tr>\n",
              "      <th>2</th>\n",
              "      <td>Sé</td>\n",
              "      <td>Linha 1 - Azul, Linha 3 - Vermelha</td>\n",
              "    </tr>\n",
              "    <tr>\n",
              "      <th>3</th>\n",
              "      <td>Liberdade</td>\n",
              "      <td>Linha 1 - Azul</td>\n",
              "    </tr>\n",
              "    <tr>\n",
              "      <th>4</th>\n",
              "      <td>Paraíso</td>\n",
              "      <td>Linha 1 - Azul, Linha 2 - Verde</td>\n",
              "    </tr>\n",
              "    <tr>\n",
              "      <th>...</th>\n",
              "      <td>...</td>\n",
              "      <td>...</td>\n",
              "    </tr>\n",
              "    <tr>\n",
              "      <th>77</th>\n",
              "      <td>AACD-Servidor</td>\n",
              "      <td>Linha 5 - Lilás</td>\n",
              "    </tr>\n",
              "    <tr>\n",
              "      <th>78</th>\n",
              "      <td>Santa Cruz</td>\n",
              "      <td>Linha 5 - Lilás</td>\n",
              "    </tr>\n",
              "    <tr>\n",
              "      <th>79</th>\n",
              "      <td>Chácara Klabin</td>\n",
              "      <td>Linha 5 - Lilás</td>\n",
              "    </tr>\n",
              "    <tr>\n",
              "      <th>80</th>\n",
              "      <td>Campo Belo</td>\n",
              "      <td>Linha 5 - Lilás</td>\n",
              "    </tr>\n",
              "    <tr>\n",
              "      <th>81</th>\n",
              "      <td>Comendador Ermelino</td>\n",
              "      <td>Linha 15 - Prata</td>\n",
              "    </tr>\n",
              "  </tbody>\n",
              "</table>\n",
              "<p>82 rows × 2 columns</p>\n",
              "</div>\n",
              "    <div class=\"colab-df-buttons\">\n",
              "\n",
              "  <div class=\"colab-df-container\">\n",
              "    <button class=\"colab-df-convert\" onclick=\"convertToInteractive('df-56b1ef28-3c24-4799-bfe8-61c07050253f')\"\n",
              "            title=\"Convert this dataframe to an interactive table.\"\n",
              "            style=\"display:none;\">\n",
              "\n",
              "  <svg xmlns=\"http://www.w3.org/2000/svg\" height=\"24px\" viewBox=\"0 -960 960 960\">\n",
              "    <path d=\"M120-120v-720h720v720H120Zm60-500h600v-160H180v160Zm220 220h160v-160H400v160Zm0 220h160v-160H400v160ZM180-400h160v-160H180v160Zm440 0h160v-160H620v160ZM180-180h160v-160H180v160Zm440 0h160v-160H620v160Z\"/>\n",
              "  </svg>\n",
              "    </button>\n",
              "\n",
              "  <style>\n",
              "    .colab-df-container {\n",
              "      display:flex;\n",
              "      gap: 12px;\n",
              "    }\n",
              "\n",
              "    .colab-df-convert {\n",
              "      background-color: #E8F0FE;\n",
              "      border: none;\n",
              "      border-radius: 50%;\n",
              "      cursor: pointer;\n",
              "      display: none;\n",
              "      fill: #1967D2;\n",
              "      height: 32px;\n",
              "      padding: 0 0 0 0;\n",
              "      width: 32px;\n",
              "    }\n",
              "\n",
              "    .colab-df-convert:hover {\n",
              "      background-color: #E2EBFA;\n",
              "      box-shadow: 0px 1px 2px rgba(60, 64, 67, 0.3), 0px 1px 3px 1px rgba(60, 64, 67, 0.15);\n",
              "      fill: #174EA6;\n",
              "    }\n",
              "\n",
              "    .colab-df-buttons div {\n",
              "      margin-bottom: 4px;\n",
              "    }\n",
              "\n",
              "    [theme=dark] .colab-df-convert {\n",
              "      background-color: #3B4455;\n",
              "      fill: #D2E3FC;\n",
              "    }\n",
              "\n",
              "    [theme=dark] .colab-df-convert:hover {\n",
              "      background-color: #434B5C;\n",
              "      box-shadow: 0px 1px 3px 1px rgba(0, 0, 0, 0.15);\n",
              "      filter: drop-shadow(0px 1px 2px rgba(0, 0, 0, 0.3));\n",
              "      fill: #FFFFFF;\n",
              "    }\n",
              "  </style>\n",
              "\n",
              "    <script>\n",
              "      const buttonEl =\n",
              "        document.querySelector('#df-56b1ef28-3c24-4799-bfe8-61c07050253f button.colab-df-convert');\n",
              "      buttonEl.style.display =\n",
              "        google.colab.kernel.accessAllowed ? 'block' : 'none';\n",
              "\n",
              "      async function convertToInteractive(key) {\n",
              "        const element = document.querySelector('#df-56b1ef28-3c24-4799-bfe8-61c07050253f');\n",
              "        const dataTable =\n",
              "          await google.colab.kernel.invokeFunction('convertToInteractive',\n",
              "                                                    [key], {});\n",
              "        if (!dataTable) return;\n",
              "\n",
              "        const docLinkHtml = 'Like what you see? Visit the ' +\n",
              "          '<a target=\"_blank\" href=https://colab.research.google.com/notebooks/data_table.ipynb>data table notebook</a>'\n",
              "          + ' to learn more about interactive tables.';\n",
              "        element.innerHTML = '';\n",
              "        dataTable['output_type'] = 'display_data';\n",
              "        await google.colab.output.renderOutput(dataTable, element);\n",
              "        const docLink = document.createElement('div');\n",
              "        docLink.innerHTML = docLinkHtml;\n",
              "        element.appendChild(docLink);\n",
              "      }\n",
              "    </script>\n",
              "  </div>\n",
              "\n",
              "\n",
              "<div id=\"df-28c9e4ae-b702-4a72-a552-684bcbddf33b\">\n",
              "  <button class=\"colab-df-quickchart\" onclick=\"quickchart('df-28c9e4ae-b702-4a72-a552-684bcbddf33b')\"\n",
              "            title=\"Suggest charts\"\n",
              "            style=\"display:none;\">\n",
              "\n",
              "<svg xmlns=\"http://www.w3.org/2000/svg\" height=\"24px\"viewBox=\"0 0 24 24\"\n",
              "     width=\"24px\">\n",
              "    <g>\n",
              "        <path d=\"M19 3H5c-1.1 0-2 .9-2 2v14c0 1.1.9 2 2 2h14c1.1 0 2-.9 2-2V5c0-1.1-.9-2-2-2zM9 17H7v-7h2v7zm4 0h-2V7h2v10zm4 0h-2v-4h2v4z\"/>\n",
              "    </g>\n",
              "</svg>\n",
              "  </button>\n",
              "\n",
              "<style>\n",
              "  .colab-df-quickchart {\n",
              "      --bg-color: #E8F0FE;\n",
              "      --fill-color: #1967D2;\n",
              "      --hover-bg-color: #E2EBFA;\n",
              "      --hover-fill-color: #174EA6;\n",
              "      --disabled-fill-color: #AAA;\n",
              "      --disabled-bg-color: #DDD;\n",
              "  }\n",
              "\n",
              "  [theme=dark] .colab-df-quickchart {\n",
              "      --bg-color: #3B4455;\n",
              "      --fill-color: #D2E3FC;\n",
              "      --hover-bg-color: #434B5C;\n",
              "      --hover-fill-color: #FFFFFF;\n",
              "      --disabled-bg-color: #3B4455;\n",
              "      --disabled-fill-color: #666;\n",
              "  }\n",
              "\n",
              "  .colab-df-quickchart {\n",
              "    background-color: var(--bg-color);\n",
              "    border: none;\n",
              "    border-radius: 50%;\n",
              "    cursor: pointer;\n",
              "    display: none;\n",
              "    fill: var(--fill-color);\n",
              "    height: 32px;\n",
              "    padding: 0;\n",
              "    width: 32px;\n",
              "  }\n",
              "\n",
              "  .colab-df-quickchart:hover {\n",
              "    background-color: var(--hover-bg-color);\n",
              "    box-shadow: 0 1px 2px rgba(60, 64, 67, 0.3), 0 1px 3px 1px rgba(60, 64, 67, 0.15);\n",
              "    fill: var(--button-hover-fill-color);\n",
              "  }\n",
              "\n",
              "  .colab-df-quickchart-complete:disabled,\n",
              "  .colab-df-quickchart-complete:disabled:hover {\n",
              "    background-color: var(--disabled-bg-color);\n",
              "    fill: var(--disabled-fill-color);\n",
              "    box-shadow: none;\n",
              "  }\n",
              "\n",
              "  .colab-df-spinner {\n",
              "    border: 2px solid var(--fill-color);\n",
              "    border-color: transparent;\n",
              "    border-bottom-color: var(--fill-color);\n",
              "    animation:\n",
              "      spin 1s steps(1) infinite;\n",
              "  }\n",
              "\n",
              "  @keyframes spin {\n",
              "    0% {\n",
              "      border-color: transparent;\n",
              "      border-bottom-color: var(--fill-color);\n",
              "      border-left-color: var(--fill-color);\n",
              "    }\n",
              "    20% {\n",
              "      border-color: transparent;\n",
              "      border-left-color: var(--fill-color);\n",
              "      border-top-color: var(--fill-color);\n",
              "    }\n",
              "    30% {\n",
              "      border-color: transparent;\n",
              "      border-left-color: var(--fill-color);\n",
              "      border-top-color: var(--fill-color);\n",
              "      border-right-color: var(--fill-color);\n",
              "    }\n",
              "    40% {\n",
              "      border-color: transparent;\n",
              "      border-right-color: var(--fill-color);\n",
              "      border-top-color: var(--fill-color);\n",
              "    }\n",
              "    60% {\n",
              "      border-color: transparent;\n",
              "      border-right-color: var(--fill-color);\n",
              "    }\n",
              "    80% {\n",
              "      border-color: transparent;\n",
              "      border-right-color: var(--fill-color);\n",
              "      border-bottom-color: var(--fill-color);\n",
              "    }\n",
              "    90% {\n",
              "      border-color: transparent;\n",
              "      border-bottom-color: var(--fill-color);\n",
              "    }\n",
              "  }\n",
              "</style>\n",
              "\n",
              "  <script>\n",
              "    async function quickchart(key) {\n",
              "      const quickchartButtonEl =\n",
              "        document.querySelector('#' + key + ' button');\n",
              "      quickchartButtonEl.disabled = true;  // To prevent multiple clicks.\n",
              "      quickchartButtonEl.classList.add('colab-df-spinner');\n",
              "      try {\n",
              "        const charts = await google.colab.kernel.invokeFunction(\n",
              "            'suggestCharts', [key], {});\n",
              "      } catch (error) {\n",
              "        console.error('Error during call to suggestCharts:', error);\n",
              "      }\n",
              "      quickchartButtonEl.classList.remove('colab-df-spinner');\n",
              "      quickchartButtonEl.classList.add('colab-df-quickchart-complete');\n",
              "    }\n",
              "    (() => {\n",
              "      let quickchartButtonEl =\n",
              "        document.querySelector('#df-28c9e4ae-b702-4a72-a552-684bcbddf33b button');\n",
              "      quickchartButtonEl.style.display =\n",
              "        google.colab.kernel.accessAllowed ? 'block' : 'none';\n",
              "    })();\n",
              "  </script>\n",
              "</div>\n",
              "\n",
              "  <div id=\"id_d1f89e66-7110-4d3c-8130-f7c89fa28425\">\n",
              "    <style>\n",
              "      .colab-df-generate {\n",
              "        background-color: #E8F0FE;\n",
              "        border: none;\n",
              "        border-radius: 50%;\n",
              "        cursor: pointer;\n",
              "        display: none;\n",
              "        fill: #1967D2;\n",
              "        height: 32px;\n",
              "        padding: 0 0 0 0;\n",
              "        width: 32px;\n",
              "      }\n",
              "\n",
              "      .colab-df-generate:hover {\n",
              "        background-color: #E2EBFA;\n",
              "        box-shadow: 0px 1px 2px rgba(60, 64, 67, 0.3), 0px 1px 3px 1px rgba(60, 64, 67, 0.15);\n",
              "        fill: #174EA6;\n",
              "      }\n",
              "\n",
              "      [theme=dark] .colab-df-generate {\n",
              "        background-color: #3B4455;\n",
              "        fill: #D2E3FC;\n",
              "      }\n",
              "\n",
              "      [theme=dark] .colab-df-generate:hover {\n",
              "        background-color: #434B5C;\n",
              "        box-shadow: 0px 1px 3px 1px rgba(0, 0, 0, 0.15);\n",
              "        filter: drop-shadow(0px 1px 2px rgba(0, 0, 0, 0.3));\n",
              "        fill: #FFFFFF;\n",
              "      }\n",
              "    </style>\n",
              "    <button class=\"colab-df-generate\" onclick=\"generateWithVariable('df')\"\n",
              "            title=\"Generate code using this dataframe.\"\n",
              "            style=\"display:none;\">\n",
              "\n",
              "  <svg xmlns=\"http://www.w3.org/2000/svg\" height=\"24px\"viewBox=\"0 0 24 24\"\n",
              "       width=\"24px\">\n",
              "    <path d=\"M7,19H8.4L18.45,9,17,7.55,7,17.6ZM5,21V16.75L18.45,3.32a2,2,0,0,1,2.83,0l1.4,1.43a1.91,1.91,0,0,1,.58,1.4,1.91,1.91,0,0,1-.58,1.4L9.25,21ZM18.45,9,17,7.55Zm-12,3A5.31,5.31,0,0,0,4.9,8.1,5.31,5.31,0,0,0,1,6.5,5.31,5.31,0,0,0,4.9,4.9,5.31,5.31,0,0,0,6.5,1,5.31,5.31,0,0,0,8.1,4.9,5.31,5.31,0,0,0,12,6.5,5.46,5.46,0,0,0,6.5,12Z\"/>\n",
              "  </svg>\n",
              "    </button>\n",
              "    <script>\n",
              "      (() => {\n",
              "      const buttonEl =\n",
              "        document.querySelector('#id_d1f89e66-7110-4d3c-8130-f7c89fa28425 button.colab-df-generate');\n",
              "      buttonEl.style.display =\n",
              "        google.colab.kernel.accessAllowed ? 'block' : 'none';\n",
              "\n",
              "      buttonEl.onclick = () => {\n",
              "        google.colab.notebook.generateWithVariable('df');\n",
              "      }\n",
              "      })();\n",
              "    </script>\n",
              "  </div>\n",
              "\n",
              "    </div>\n",
              "  </div>\n"
            ],
            "application/vnd.google.colaboratory.intrinsic+json": {
              "type": "dataframe",
              "variable_name": "df",
              "summary": "{\n  \"name\": \"df\",\n  \"rows\": 82,\n  \"fields\": [\n    {\n      \"column\": \"nome_da_estacao\",\n      \"properties\": {\n        \"dtype\": \"string\",\n        \"num_unique_values\": 80,\n        \"samples\": [\n          \"Camilo Haddad\",\n          \"Luz\",\n          \"Ch\\u00e1cara Klabin\"\n        ],\n        \"semantic_type\": \"\",\n        \"description\": \"\"\n      }\n    },\n    {\n      \"column\": \"linha\",\n      \"properties\": {\n        \"dtype\": \"category\",\n        \"num_unique_values\": 14,\n        \"samples\": [\n          \"Linha 3 - Vermelha, Linha 4 - Amarela\",\n          \"Linha 4 - Amarela, Linha 9 - Esmeralda\",\n          \"Linha 1 - Azul\"\n        ],\n        \"semantic_type\": \"\",\n        \"description\": \"\"\n      }\n    }\n  ]\n}"
            }
          },
          "metadata": {},
          "execution_count": 9
        }
      ]
    },
    {
      "cell_type": "code",
      "source": [
        "# Cria as colunas de Longitude e Latitude\n",
        "df['Longitude'] = ''\n",
        "df['Latitude'] = ''"
      ],
      "metadata": {
        "id": "-1Zwhgyb6MWi"
      },
      "execution_count": 10,
      "outputs": []
    },
    {
      "cell_type": "code",
      "source": [
        "# Itera pelas linhas do DataFrame e preenche as coordenadas\n",
        "for index, row in df.iterrows():\n",
        "    station_name = row['nome_da_estacao']\n",
        "\n",
        "    # Faz a geocodificação usando a API do Google Maps\n",
        "    geocode_result = gmaps.geocode(station_name + ', São Paulo, Brasil')\n",
        "\n",
        "    # Verifica se a geocodificação foi bem-sucedida\n",
        "    if geocode_result:\n",
        "        lat = geocode_result[0]['geometry']['location']['lat']\n",
        "        lng = geocode_result[0]['geometry']['location']['lng']\n",
        "        df.loc[index, ['Latitude', 'Longitude']] = [lat, lng]\n",
        "    else:\n",
        "        print(f'Erro ao geocodificar a estação: {station_name}')"
      ],
      "metadata": {
        "id": "KjE-8U3N6o4G"
      },
      "execution_count": 11,
      "outputs": []
    },
    {
      "cell_type": "code",
      "source": [
        "# Imprime o DataFrame com as coordenadas\n",
        "print(df)"
      ],
      "metadata": {
        "colab": {
          "base_uri": "https://localhost:8080/"
        },
        "id": "CrJ4lZDs7bJG",
        "outputId": "c95e5e26-cdf9-4ff3-aea1-711227a86e76"
      },
      "execution_count": 12,
      "outputs": [
        {
          "output_type": "stream",
          "name": "stdout",
          "text": [
            "        nome_da_estacao                               linha  Longitude  \\\n",
            "0                   Luz                      Linha 1 - Azul  -46.62915   \n",
            "1             São Bento                      Linha 1 - Azul -46.650397   \n",
            "2                    Sé  Linha 1 - Azul, Linha 3 - Vermelha -46.630715   \n",
            "3             Liberdade                      Linha 1 - Azul -46.631259   \n",
            "4               Paraíso     Linha 1 - Azul, Linha 2 - Verde -46.648786   \n",
            "..                  ...                                 ...        ...   \n",
            "77        AACD-Servidor                     Linha 5 - Lilás -46.652281   \n",
            "78           Santa Cruz                     Linha 5 - Lilás -46.636833   \n",
            "79       Chácara Klabin                     Linha 5 - Lilás -46.629509   \n",
            "80           Campo Belo                     Linha 5 - Lilás  -46.67202   \n",
            "81  Comendador Ermelino                    Linha 15 - Prata -46.482337   \n",
            "\n",
            "     Latitude  \n",
            "0  -23.529456  \n",
            "1  -23.502731  \n",
            "2  -23.552849  \n",
            "3  -23.559917  \n",
            "4   -23.57476  \n",
            "..        ...  \n",
            "77 -23.597305  \n",
            "78 -23.598909  \n",
            "79 -23.591744  \n",
            "80  -23.62203  \n",
            "81  -23.48511  \n",
            "\n",
            "[82 rows x 4 columns]\n"
          ]
        }
      ]
    },
    {
      "cell_type": "code",
      "source": [
        "# Salva o DataFrame atualizado em um novo arquivo Excel (opcional)\n",
        "df.to_excel('/content/metro_sp_coordenadas.xlsx', index=False)"
      ],
      "metadata": {
        "id": "HkJKVx_M7q0D"
      },
      "execution_count": 13,
      "outputs": []
    },
    {
      "cell_type": "code",
      "source": [
        "# Cria um dicionário para mapear as cores das linhas\n",
        "cores_linhas = {\n",
        "    'Linha 1 - Azul': 'blue',\n",
        "    'Linha 2 - Verde': 'green',\n",
        "    'Linha 3 - Vermelha': 'red',\n",
        "    'Linha 4 - Amarela': 'yellow',\n",
        "    'Linha 5 - Lilás': 'purple',\n",
        "    'Linha 15 - Prata': 'gray'\n",
        "}"
      ],
      "metadata": {
        "id": "k25Y1KY6C5Ji"
      },
      "execution_count": 14,
      "outputs": []
    },
    {
      "cell_type": "code",
      "source": [
        "# Cria uma cópia do DataFrame\n",
        "df_linhas = df.copy()\n"
      ],
      "metadata": {
        "id": "AsZ6KMcaDQ4T"
      },
      "execution_count": 15,
      "outputs": []
    },
    {
      "cell_type": "code",
      "source": [
        "# Encontra a estação no DataFrame com base na comparação direta de strings, ignorando maiúsculas e minúsculas e caracteres especiais..\n",
        "\n",
        "def encontrar_estacao(prompt, df):\n",
        "  \"\"\"\n",
        "  Args:\n",
        "    prompt: O nome da estação digitado pelo usuário.\n",
        "    df: O DataFrame contendo os dados das estações.\n",
        "\n",
        "  Returns:\n",
        "    A linha do DataFrame correspondente à estação encontrada, ou None se não encontrar.\n",
        "  \"\"\"\n",
        "  prompt = unidecode(prompt).lower()\n",
        "  for index, row in df.iterrows():\n",
        "    nome_estacao = unidecode(row['nome_da_estacao']).lower()\n",
        "    if prompt == nome_estacao:\n",
        "      return row\n",
        "  return None"
      ],
      "metadata": {
        "id": "ZQItUoF0HJm1"
      },
      "execution_count": 16,
      "outputs": []
    },
    {
      "cell_type": "code",
      "source": [
        "# Função para obter a estação validada do usuário\n",
        "def obter_estacao_validada(tipo_estacao, df):\n",
        "  while True:\n",
        "    nome_da_estacao = input(f'Qual a estação de {tipo_estacao}? ')\n",
        "    estacao_validada = encontrar_estacao(nome_da_estacao, df)\n",
        "    if estacao_validada is not None:\n",
        "      return estacao_validada\n",
        "    print(f\"Estação '{nome_da_estacao}' não encontrada. Tente novamente.\")\n"
      ],
      "metadata": {
        "id": "GtvIFdv_Hlb-"
      },
      "execution_count": 17,
      "outputs": []
    },
    {
      "cell_type": "code",
      "source": [
        "# Estima o tempo de trajeto entre duas coordenadas usando a API do Google Maps.\n",
        "def estimar_tempo_trajeto(origem, destino):\n",
        "  \"\"\"\n",
        "  Args:\n",
        "    origem: Array (latitude, longitude) da estação de origem.\n",
        "    destino: Array (latitude, longitude) da estação de destino.\n",
        "\n",
        "  Returns:\n",
        "    O tempo estimado de trajeto em minutos, ou None se houver erro na consulta à API.\n",
        "  \"\"\"\n",
        "  try:\n",
        "    directions_result = gmaps.directions(\n",
        "        origin=origem,\n",
        "        destination=destino,\n",
        "        mode=\"transit\",  # Define o modo de transporte como transporte público\n",
        "        departure_time=\"now\"  # Define a hora de partida como agora\n",
        "    )\n",
        "    # Extrai o tempo de trajeto da resposta da API\n",
        "    tempo_em_segundos = directions_result[0]['legs'][0]['duration']['value']\n",
        "    tempo_em_minutos = tempo_em_segundos // 60\n",
        "    return tempo_em_minutos\n",
        "  except Exception as e:\n",
        "    print(f\"Erro ao estimar o tempo de trajeto: {e}\")\n",
        "    return None"
      ],
      "metadata": {
        "id": "pQ0Q916uM8pD"
      },
      "execution_count": 18,
      "outputs": []
    },
    {
      "cell_type": "code",
      "source": [
        "# Calcula a emissão de CO2 da viagem de metrô\n",
        "def calcular_emissao_co2_metro(distancia_km):\n",
        "  emissao_co2_por_km = 0.025  # kg CO2 por km por passageiro (estimativa)\n",
        "  emissao_total = distancia_km * emissao_co2_por_km\n",
        "  return emissao_total"
      ],
      "metadata": {
        "id": "MQQlEDCWU1Rl"
      },
      "execution_count": 19,
      "outputs": []
    },
    {
      "cell_type": "code",
      "source": [
        "# Gera um texto sobre o impacto ambiental usando o genai\n",
        "def gerar_texto_impacto_ambiental(emissao_co2):\n",
        "  prompt = f\"\"\"\n",
        "  Você está usando o metrô de São Paulo e evitou a emissão de {emissao_co2} kg de CO2.\n",
        "  Crie um texto curto que inspire sobre a importância de fazer escolhas sustentáveis para o meio ambiente.\n",
        "  Mencione como pequenas ações podem fazer a diferença e incentive outras pessoas a optarem pelo transporte público.\n",
        "  \"\"\"\n",
        "\n",
        "  response = model.generate_content(prompt)\n",
        "\n",
        "  return response.text"
      ],
      "metadata": {
        "id": "-pJb6R0bVTBu"
      },
      "execution_count": 41,
      "outputs": []
    },
    {
      "cell_type": "code",
      "source": [
        "# Obtém os principais pontos turísticos próximos à estação de destino usando o genai.\n",
        "def obter_pontos_turisticos(estacao_destino):\n",
        "  prompt = f\"\"\"\n",
        "  Liste os principais pontos turísticos próximos à estação de metrô {estacao_destino} em São Paulo.\n",
        "  \"\"\"\n",
        "\n",
        "  response = model.generate_content(prompt)\n",
        "\n",
        "\n",
        "  return response.text"
      ],
      "metadata": {
        "id": "nU6opE7iZwkX"
      },
      "execution_count": 44,
      "outputs": []
    },
    {
      "cell_type": "code",
      "source": [
        "# Obtém a estação de embarque validada\n",
        "embarqueValidado = obter_estacao_validada('embarque', df)"
      ],
      "metadata": {
        "colab": {
          "base_uri": "https://localhost:8080/"
        },
        "id": "HhRdixftIqv3",
        "outputId": "78b4a21f-8989-49ca-f12a-66bbda1d799d"
      },
      "execution_count": 34,
      "outputs": [
        {
          "name": "stdout",
          "output_type": "stream",
          "text": [
            "Qual a estação de embarque? luz\n"
          ]
        }
      ]
    },
    {
      "cell_type": "code",
      "source": [
        "# Obtém a estação de desembarque validada\n",
        "desembarqueValidado = obter_estacao_validada('desembarque', df)"
      ],
      "metadata": {
        "colab": {
          "base_uri": "https://localhost:8080/"
        },
        "id": "ESYNX1TLL_9Z",
        "outputId": "eb7e3f26-8307-412c-fc53-f4942c0e4652"
      },
      "execution_count": 24,
      "outputs": [
        {
          "name": "stdout",
          "output_type": "stream",
          "text": [
            "Qual a estação de desembarque? jabaquara\n"
          ]
        }
      ]
    },
    {
      "cell_type": "code",
      "source": [
        "# Extrai as coordenadas das estações\n",
        "origem = (embarqueValidado['Latitude'], embarqueValidado['Longitude'])\n",
        "destino = (desembarqueValidado['Latitude'], desembarqueValidado['Longitude'])"
      ],
      "metadata": {
        "id": "qYII3oP3NgFf"
      },
      "execution_count": 25,
      "outputs": []
    },
    {
      "cell_type": "code",
      "source": [
        "# Estima o tempo de trajeto\n",
        "tempo_estimado = estimar_tempo_trajeto(origem, destino)\n",
        "\n",
        "if tempo_estimado is not None:\n",
        "  print(f\"Tempo estimado de trajeto: {tempo_estimado} minutos\")"
      ],
      "metadata": {
        "colab": {
          "base_uri": "https://localhost:8080/"
        },
        "id": "OPDSlsU4Nkqt",
        "outputId": "d19910f3-c927-48b9-93ce-18d224f93270"
      },
      "execution_count": 26,
      "outputs": [
        {
          "output_type": "stream",
          "name": "stdout",
          "text": [
            "Tempo estimado de trajeto: 52 minutos\n"
          ]
        }
      ]
    },
    {
      "cell_type": "code",
      "source": [
        "# Calcula a distância entre as estações usando a API do Google Maps\n",
        "distancia_metros = gmaps.distance_matrix(\n",
        "    origins=origem,\n",
        "    destinations=destino,\n",
        "    mode=\"transit\"\n",
        ")['rows'][0]['elements'][0]['distance']['value']\n",
        "\n",
        "distancia_km = distancia_metros / 1000"
      ],
      "metadata": {
        "id": "-FHUG95VSFQw"
      },
      "execution_count": 27,
      "outputs": []
    },
    {
      "cell_type": "code",
      "source": [
        "# Calcula a emissão de CO2\n",
        "emissao_co2 = calcular_emissao_co2_metro(distancia_km)"
      ],
      "metadata": {
        "id": "x0nLSFu5VI4S"
      },
      "execution_count": 36,
      "outputs": []
    },
    {
      "cell_type": "code",
      "source": [
        "# Gera o texto sobre o impacto ambiental\n",
        "texto_impacto = gerar_texto_impacto_ambiental(emissao_co2)\n",
        "print(texto_impacto)"
      ],
      "metadata": {
        "colab": {
          "base_uri": "https://localhost:8080/",
          "height": 89
        },
        "id": "wLWE-297aErb",
        "outputId": "398608cb-b1fc-46e4-e4b0-a6637969124f"
      },
      "execution_count": 42,
      "outputs": [
        {
          "output_type": "stream",
          "name": "stdout",
          "text": [
            "Ao optar pelo metrô, você não apenas economizou tempo e dinheiro, mas também contribuiu para um futuro mais verde. Cada viagem de metrô evita a emissão de 0,347 kg de CO2, reduzindo nossa pegada de carbono.\n",
            "\n",
            "Pequenas ações, como escolher o transporte público, podem ter um impacto significativo no meio ambiente. Ao fazer escolhas sustentáveis, estamos protegendo nosso planeta para as gerações futuras. Junte-se a nós na jornada para um futuro mais limpo e opte pelo transporte público sempre que possível. Juntos, podemos fazer a diferença!\n"
          ]
        }
      ]
    },
    {
      "cell_type": "code",
      "source": [
        "# Gera o texto sobre o impacto ambiental\n",
        "texto_turistico = obter_pontos_turisticos(desembarqueValidado)\n",
        "print(texto_turistico)"
      ],
      "metadata": {
        "colab": {
          "base_uri": "https://localhost:8080/",
          "height": 211
        },
        "id": "cFzbjnJQt9jX",
        "outputId": "fc1b87ac-153e-4d9a-9d4a-63820f07772d"
      },
      "execution_count": 45,
      "outputs": [
        {
          "output_type": "stream",
          "name": "stdout",
          "text": [
            "* **Parque Ibirapuera:** Um dos maiores e mais importantes parques urbanos da América Latina, com amplas áreas verdes, lagos, museus e outras atrações.\n",
            "* **Museu Afro Brasil:** Dedicado à cultura e história afro-brasileira, com uma vasta coleção de arte, documentos e objetos.\n",
            "* **Museu de Arte Moderna de São Paulo (MAM):** Um dos museus de arte moderna mais importantes do Brasil, com uma coleção que abrange obras de artistas brasileiros e internacionais.\n",
            "* **Estádio do Morumbi:** O estádio do São Paulo Futebol Clube, um dos maiores e mais tradicionais clubes de futebol do Brasil.\n",
            "* **Shopping Morumbi:** Um dos maiores e mais completos shoppings centers de São Paulo, com uma ampla variedade de lojas, restaurantes e opções de entretenimento.\n",
            "* **Parque da Independência:** Um parque histórico que abriga o Museu do Ipiranga, onde foi proclamada a independência do Brasil.\n",
            "* **Zoológico de São Paulo:** Um dos maiores e mais completos zoológicos da América Latina, com uma grande variedade de animais de todo o mundo.\n",
            "* **Aquário de São Paulo:** Um aquário que abriga uma grande variedade de espécies marinhas, incluindo tubarões, arraias e pinguins.\n",
            "* **Centro Cultural São Paulo:** Um grande centro cultural que oferece exposições, espetáculos, oficinas e outras atividades culturais.\n",
            "* **Mercado Municipal de São Paulo:** Um mercado tradicional que oferece uma grande variedade de produtos frescos, especiarias e outros itens.\n"
          ]
        }
      ]
    }
  ]
}